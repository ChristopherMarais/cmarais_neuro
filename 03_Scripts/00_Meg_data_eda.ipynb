{
 "cells": [
  {
   "cell_type": "code",
   "execution_count": 6,
   "metadata": {},
   "outputs": [],
   "source": [
    "import os\n",
    "import pickle\n",
    "import multirecording_spikeanalysis as spike\n",
    "import numpy as np\n",
    "# import pandas as pd # use pandas for more fucntionality\n",
    "import modin.pandas as pd # use modin to speed things up\n",
    "import matplotlib.pyplot as plt\n",
    "import seaborn as sns"
   ]
  },
  {
   "cell_type": "code",
   "execution_count": 7,
   "metadata": {},
   "outputs": [],
   "source": [
    "# get working directory as paerent directory of current directory\n",
    "cwd = os.getcwd()\n",
    "pwd = os.path.dirname(cwd)"
   ]
  },
  {
   "cell_type": "code",
   "execution_count": 8,
   "metadata": {},
   "outputs": [],
   "source": [
    "# import pickle files given by lab\n",
    "with open(pwd + '/01_Raw_data/phase2_collection.pkl', 'rb') as f:\n",
    "    phase2 = pickle.load(f)\n",
    "\n",
    "# import pickle files given by lab\n",
    "with open(pwd + '/01_Raw_data/phase3_collection.pkl', 'rb') as f:\n",
    "    phase3 = pickle.load(f)"
   ]
  },
  {
   "cell_type": "code",
   "execution_count": 9,
   "metadata": {},
   "outputs": [
    {
     "data": {
      "text/plain": [
       "{'acquisition': array([[ 15167.,  24733.],\n",
       "        [ 27433.,  33833.],\n",
       "        [ 69667.,  70367.],\n",
       "        [ 84100.,  85400.],\n",
       "        [118067., 122367.],\n",
       "        [164533., 165367.]]),\n",
       " 'recall': array([[1237154.35, 1238354.35],\n",
       "        [1244821.35, 1253821.35],\n",
       "        [1293921.35, 1296488.35],\n",
       "        [1515854.35, 1518721.35]]),\n",
       " 'cagemate': array([[1536554.35, 1546354.35],\n",
       "        [1548688.35, 1550254.35],\n",
       "        [1582388.35, 1583354.35],\n",
       "        [1587654.35, 1588454.35],\n",
       "        [1629088.35, 1630254.35],\n",
       "        [1815588.35, 1818554.35]]),\n",
       " 'novel': array([[1832021.35, 1837154.35],\n",
       "        [1847288.35, 1850321.35],\n",
       "        [1913654.35, 1917554.35]]),\n",
       " 'exposure 1': array([[1237154.35, 1238354.35],\n",
       "        [1244821.35, 1253821.35],\n",
       "        [1293921.35, 1296488.35],\n",
       "        [1515854.35, 1518721.35]]),\n",
       " 'exposure 2': array([[1536554.35, 1546354.35],\n",
       "        [1548688.35, 1550254.35],\n",
       "        [1582388.35, 1583354.35],\n",
       "        [1587654.35, 1588454.35],\n",
       "        [1629088.35, 1630254.35],\n",
       "        [1815588.35, 1818554.35]]),\n",
       " 'exposure 3': array([[1832021.35, 1837154.35],\n",
       "        [1847288.35, 1850321.35],\n",
       "        [1913654.35, 1917554.35]])}"
      ]
     },
     "execution_count": 9,
     "metadata": {},
     "output_type": "execute_result"
    }
   ],
   "source": [
    "# show the subject to which each recording belongs to\n",
    "phase2.collection['20230803_101331_1_merged.rec'].subject\n",
    "# shows the type of unit/neuron (we only use good units in unit_timestamps)\n",
    "phase2.collection['20230803_101331_1_merged.rec'].labels_dict\n",
    "# all the timestamps for all units\n",
    "phase2.collection['20230803_101331_1_merged.rec'].timestamps_var\n",
    "\n",
    "# start here (Only use these for now)\n",
    "# all the timestamps for each unit\n",
    "phase2.collection['20230803_101331_1_merged.rec'].unit_timestamps \n",
    "# the behaviour labels for each timestamp with a starting and ending time\n",
    "phase2.collection['20230803_101331_1_merged.rec'].event_dict"
   ]
  },
  {
   "cell_type": "code",
   "execution_count": 20,
   "metadata": {},
   "outputs": [
    {
     "data": {
      "text/plain": [
       "{'acquisition': array([[ 15167.,  24733.],\n",
       "        [ 27433.,  33833.],\n",
       "        [ 69667.,  70367.],\n",
       "        [ 84100.,  85400.],\n",
       "        [118067., 122367.],\n",
       "        [164533., 165367.]]),\n",
       " 'recall': array([[1237154.35, 1238354.35],\n",
       "        [1244821.35, 1253821.35],\n",
       "        [1293921.35, 1296488.35],\n",
       "        [1515854.35, 1518721.35]]),\n",
       " 'cagemate': array([[1536554.35, 1546354.35],\n",
       "        [1548688.35, 1550254.35],\n",
       "        [1582388.35, 1583354.35],\n",
       "        [1587654.35, 1588454.35],\n",
       "        [1629088.35, 1630254.35],\n",
       "        [1815588.35, 1818554.35]]),\n",
       " 'novel': array([[1832021.35, 1837154.35],\n",
       "        [1847288.35, 1850321.35],\n",
       "        [1913654.35, 1917554.35]]),\n",
       " 'exposure 1': array([[1237154.35, 1238354.35],\n",
       "        [1244821.35, 1253821.35],\n",
       "        [1293921.35, 1296488.35],\n",
       "        [1515854.35, 1518721.35]]),\n",
       " 'exposure 2': array([[1536554.35, 1546354.35],\n",
       "        [1548688.35, 1550254.35],\n",
       "        [1582388.35, 1583354.35],\n",
       "        [1587654.35, 1588454.35],\n",
       "        [1629088.35, 1630254.35],\n",
       "        [1815588.35, 1818554.35]]),\n",
       " 'exposure 3': array([[1832021.35, 1837154.35],\n",
       "        [1847288.35, 1850321.35],\n",
       "        [1913654.35, 1917554.35]])}"
      ]
     },
     "execution_count": 20,
     "metadata": {},
     "output_type": "execute_result"
    }
   ],
   "source": [
    "phase2.collection['20230803_101331_1_merged.rec'].event_dict"
   ]
  },
  {
   "cell_type": "code",
   "execution_count": 10,
   "metadata": {},
   "outputs": [],
   "source": [
    "# get an aray of timestamps for each behaviour\n",
    "# each unit is seen as an indipendent case? or all units of the same indiviudal are seen as one case? -> ask Meghan >> see if each individual has same number of units\n",
    "# calcualte the distance bewteen timeseries of each case and compare them bewteen behaviours without dimensionality reduction (treat it as a vector) >>> look up ways to comapre time series data and calcualte distance bewteen time series data\n",
    "# draw conclusions of simialr behaviours are. \n",
    "\n",
    "# Qs meghan: is each recording the same length around the event? Not the case for random stuff I assume.\n",
    "# Dtw, mahalonobis, mutual information to allign all cases\n",
    "# make graph with naode as case and edge as similarity\n",
    "# cluster and compare clusters to behaviour/indvidual/unit\n"
   ]
  },
  {
   "cell_type": "code",
   "execution_count": 12,
   "metadata": {},
   "outputs": [
    {
     "data": {
      "text/plain": [
       "'1.1'"
      ]
     },
     "execution_count": 12,
     "metadata": {},
     "output_type": "execute_result"
    }
   ],
   "source": [
    "phase2.collection['20230803_101331_1_merged.rec'].subject"
   ]
  },
  {
   "cell_type": "code",
   "execution_count": 16,
   "metadata": {},
   "outputs": [
    {
     "data": {
      "text/plain": [
       "{'20230803_101331_1_merged.rec': <multirecording_spikeanalysis.EphysRecording at 0x2b161b74920>,\n",
       " '20230803_121318_1_merged.rec': <multirecording_spikeanalysis.EphysRecording at 0x2b1628efa70>,\n",
       " '20230803_141047_1_merged.rec': <multirecording_spikeanalysis.EphysRecording at 0x2b1628fb2c0>,\n",
       " '20230804_121600_1_merged.rec': <multirecording_spikeanalysis.EphysRecording at 0x2b162902f60>,\n",
       " '20230804_141009_1_merged.rec': <multirecording_spikeanalysis.EphysRecording at 0x2b16290b980>,\n",
       " '20230817_100823_1_merged.rec': <multirecording_spikeanalysis.EphysRecording at 0x2b16291b590>,\n",
       " '20230817_113746_1_merged.rec': <multirecording_spikeanalysis.EphysRecording at 0x2b16291ec90>,\n",
       " '20230818_115728_1_merged.rec': <multirecording_spikeanalysis.EphysRecording at 0x2b162926930>,\n",
       " '20230818_133620_1_merged.rec': <multirecording_spikeanalysis.EphysRecording at 0x2b162931850>}"
      ]
     },
     "execution_count": 16,
     "metadata": {},
     "output_type": "execute_result"
    }
   ],
   "source": [
    "metadata_df = pd.DataFrame()\n",
    "for i, j in phase2:\n",
    "    metadata_df['collection'] = i\n",
    "    metadata_df['subject'] = j.subject\n",
    "    "
   ]
  }
 ],
 "metadata": {
  "kernelspec": {
   "display_name": "play",
   "language": "python",
   "name": "python3"
  },
  "language_info": {
   "codemirror_mode": {
    "name": "ipython",
    "version": 3
   },
   "file_extension": ".py",
   "mimetype": "text/x-python",
   "name": "python",
   "nbconvert_exporter": "python",
   "pygments_lexer": "ipython3",
   "version": "3.12.0"
  }
 },
 "nbformat": 4,
 "nbformat_minor": 2
}

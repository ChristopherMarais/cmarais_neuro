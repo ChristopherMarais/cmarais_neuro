{
 "cells": [
  {
   "cell_type": "code",
   "execution_count": 1,
   "metadata": {},
   "outputs": [],
   "source": [
    "import os\n",
    "import pickle\n",
    "import multirecording_spikeanalysis as spike\n",
    "import numpy as np\n",
    "# import pandas as pd # use pandas for more fucntionality\n",
    "import modin.pandas as pd # use modin to speed things up\n",
    "import matplotlib.pyplot as plt\n",
    "import seaborn as sns"
   ]
  },
  {
   "cell_type": "code",
   "execution_count": 2,
   "metadata": {},
   "outputs": [],
   "source": [
    "# get working directory as paerent directory of current directory\n",
    "cwd = os.getcwd()\n",
    "pwd = os.path.dirname(cwd)"
   ]
  },
  {
   "cell_type": "code",
   "execution_count": 3,
   "metadata": {},
   "outputs": [],
   "source": [
    "# import pickle files given by lab\n",
    "with open(pwd + '/01_Raw_data/phase2_collection.pkl', 'rb') as f:\n",
    "    data_dict1 = pickle.load(f)\n",
    "\n",
    "# import pickle files given by lab\n",
    "with open(pwd + '/01_Raw_data/phase3_collection.pkl', 'rb') as f:\n",
    "    data_dict2 = pickle.load(f)"
   ]
  },
  {
   "cell_type": "code",
   "execution_count": 20,
   "metadata": {},
   "outputs": [
    {
     "data": {
      "text/plain": [
       "'1.1'"
      ]
     },
     "execution_count": 20,
     "metadata": {},
     "output_type": "execute_result"
    }
   ],
   "source": [
    "# show the subject to which each recording belongs to\n",
    "data_dict1.collection['20230803_101331_1_merged.rec'].subject\n",
    "# shows the type of unit/neuron (we only use good units in unit_timestamps)\n",
    "data_dict1.collection['20230803_101331_1_merged.rec'].labels_dict\n",
    "# all the timestamps for all units\n",
    "data_dict1.collection['20230803_101331_1_merged.rec'].timestamps_var\n",
    "\n",
    "# start here (Only use these for now)\n",
    "# all the timestamps for each unit\n",
    "data_dict1.collection['20230803_101331_1_merged.rec'].unit_timestamps \n",
    "# the behaviour labels for each timestamp with a starting and ending time\n",
    "data_dict1.collection['20230803_101331_1_merged.rec'].event_dict"
   ]
  },
  {
   "cell_type": "code",
   "execution_count": null,
   "metadata": {},
   "outputs": [],
   "source": []
  }
 ],
 "metadata": {
  "kernelspec": {
   "display_name": "play",
   "language": "python",
   "name": "python3"
  },
  "language_info": {
   "codemirror_mode": {
    "name": "ipython",
    "version": 3
   },
   "file_extension": ".py",
   "mimetype": "text/x-python",
   "name": "python",
   "nbconvert_exporter": "python",
   "pygments_lexer": "ipython3",
   "version": "3.12.0"
  }
 },
 "nbformat": 4,
 "nbformat_minor": 2
}

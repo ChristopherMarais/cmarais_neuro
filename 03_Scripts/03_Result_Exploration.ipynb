{
 "cells": [
  {
   "cell_type": "markdown",
   "metadata": {},
   "source": [
    "# Clustering Results Exploration Notebook\n",
    "Christopher Marais\n",
    "\n",
    "gmarais@ufl.edu\n",
    "\n",
    "2023/12/14\n",
    "\n",
    "<br>\n",
    "\n",
    "The aim of this notebook is to describe how well the clustering alligns with other labels given to the data. \n",
    "\n",
    "The Runtime of this notebook is less than 5 minutes.\n",
    "\n",
    "<br>\n",
    "\n",
    "Input: `/02_Clean_data/02_recording_event_times_labels_binary_clustered.csv` \n",
    "\n",
    "↓\n",
    "\n",
    "Process: `</03_Scripts/Result_Exploration.ipynb>`\n",
    "\n",
    "↓\n",
    "\n",
    "Output: `/04_Visualizations/03_attribute_NMI_plot.png`, `/04_Visualizations/03_attribute_ARI_plot.png`, `/02_Clean_data/03_cluster_relation_df.csv`\n",
    "\n",
    "<br>\n",
    "\n",
    "-----------"
   ]
  },
  {
   "cell_type": "markdown",
   "metadata": {},
   "source": [
    "### Import Packages"
   ]
  },
  {
   "cell_type": "code",
   "execution_count": 8,
   "metadata": {},
   "outputs": [],
   "source": [
    "import os\n",
    "import numpy as np\n",
    "import pandas as pd # use pandas for more functionality\n",
    "from sklearn.metrics import adjusted_rand_score, normalized_mutual_info_score\n",
    "import seaborn as sns\n",
    "import matplotlib.pyplot as plt"
   ]
  },
  {
   "cell_type": "markdown",
   "metadata": {},
   "source": [
    "### Define Working Directory"
   ]
  },
  {
   "cell_type": "code",
   "execution_count": 9,
   "metadata": {},
   "outputs": [],
   "source": [
    "# get working directory as paerent directory of current directory\n",
    "cwd = os.getcwd()\n",
    "pwd = os.path.dirname(cwd)"
   ]
  },
  {
   "cell_type": "markdown",
   "metadata": {},
   "source": [
    "### Import Data"
   ]
  },
  {
   "cell_type": "code",
   "execution_count": 10,
   "metadata": {},
   "outputs": [
    {
     "data": {
      "text/html": [
       "<div>\n",
       "<style scoped>\n",
       "    .dataframe tbody tr th:only-of-type {\n",
       "        vertical-align: middle;\n",
       "    }\n",
       "\n",
       "    .dataframe tbody tr th {\n",
       "        vertical-align: top;\n",
       "    }\n",
       "\n",
       "    .dataframe thead th {\n",
       "        text-align: right;\n",
       "    }\n",
       "</style>\n",
       "<table border=\"1\" class=\"dataframe\">\n",
       "  <thead>\n",
       "    <tr style=\"text-align: right;\">\n",
       "      <th></th>\n",
       "      <th>order</th>\n",
       "      <th>start_time</th>\n",
       "      <th>end_time</th>\n",
       "      <th>collection_key</th>\n",
       "      <th>subject</th>\n",
       "      <th>behavior_label</th>\n",
       "      <th>units</th>\n",
       "      <th>event_timestamps</th>\n",
       "      <th>cluster</th>\n",
       "    </tr>\n",
       "  </thead>\n",
       "  <tbody>\n",
       "    <tr>\n",
       "      <th>0</th>\n",
       "      <td>exposure Nan</td>\n",
       "      <td>15167.0</td>\n",
       "      <td>24733.0</td>\n",
       "      <td>20230803_101331_1_merged.rec</td>\n",
       "      <td>1.1</td>\n",
       "      <td>acquisition</td>\n",
       "      <td>2</td>\n",
       "      <td>[133.0, 359.0, 761.0, 841.0, 1042.0, 1142.0, 1...</td>\n",
       "      <td>63</td>\n",
       "    </tr>\n",
       "    <tr>\n",
       "      <th>1</th>\n",
       "      <td>exposure Nan</td>\n",
       "      <td>15167.0</td>\n",
       "      <td>24733.0</td>\n",
       "      <td>20230803_101331_1_merged.rec</td>\n",
       "      <td>1.1</td>\n",
       "      <td>acquisition</td>\n",
       "      <td>26</td>\n",
       "      <td>[149.0, 2407.0, 2955.0, 6394.0, 6924.0, 11713....</td>\n",
       "      <td>8</td>\n",
       "    </tr>\n",
       "    <tr>\n",
       "      <th>2</th>\n",
       "      <td>exposure Nan</td>\n",
       "      <td>15167.0</td>\n",
       "      <td>24733.0</td>\n",
       "      <td>20230803_101331_1_merged.rec</td>\n",
       "      <td>1.1</td>\n",
       "      <td>acquisition</td>\n",
       "      <td>196</td>\n",
       "      <td>[394.0, 1740.0, 2021.0, 2752.0, 3636.0, 5356.0...</td>\n",
       "      <td>61</td>\n",
       "    </tr>\n",
       "    <tr>\n",
       "      <th>3</th>\n",
       "      <td>exposure Nan</td>\n",
       "      <td>15167.0</td>\n",
       "      <td>24733.0</td>\n",
       "      <td>20230803_101331_1_merged.rec</td>\n",
       "      <td>1.1</td>\n",
       "      <td>acquisition</td>\n",
       "      <td>113</td>\n",
       "      <td>[436.0, 7630.0, 9762.0, 11461.0, 13316.0, 1414...</td>\n",
       "      <td>38</td>\n",
       "    </tr>\n",
       "    <tr>\n",
       "      <th>4</th>\n",
       "      <td>exposure Nan</td>\n",
       "      <td>15167.0</td>\n",
       "      <td>24733.0</td>\n",
       "      <td>20230803_101331_1_merged.rec</td>\n",
       "      <td>1.1</td>\n",
       "      <td>acquisition</td>\n",
       "      <td>91</td>\n",
       "      <td>[449.0, 4067.0, 11824.0, 22087.0]</td>\n",
       "      <td>33</td>\n",
       "    </tr>\n",
       "    <tr>\n",
       "      <th>...</th>\n",
       "      <td>...</td>\n",
       "      <td>...</td>\n",
       "      <td>...</td>\n",
       "      <td>...</td>\n",
       "      <td>...</td>\n",
       "      <td>...</td>\n",
       "      <td>...</td>\n",
       "      <td>...</td>\n",
       "      <td>...</td>\n",
       "    </tr>\n",
       "    <tr>\n",
       "      <th>25593</th>\n",
       "      <td>exposure 3</td>\n",
       "      <td>1985700.0</td>\n",
       "      <td>1986200.0</td>\n",
       "      <td>20230818_133620_1_merged.rec</td>\n",
       "      <td>1.4</td>\n",
       "      <td>novel</td>\n",
       "      <td>73</td>\n",
       "      <td>[]</td>\n",
       "      <td>27</td>\n",
       "    </tr>\n",
       "    <tr>\n",
       "      <th>25594</th>\n",
       "      <td>exposure 3</td>\n",
       "      <td>1985700.0</td>\n",
       "      <td>1986200.0</td>\n",
       "      <td>20230818_133620_1_merged.rec</td>\n",
       "      <td>1.4</td>\n",
       "      <td>novel</td>\n",
       "      <td>141</td>\n",
       "      <td>[]</td>\n",
       "      <td>27</td>\n",
       "    </tr>\n",
       "    <tr>\n",
       "      <th>25595</th>\n",
       "      <td>exposure 3</td>\n",
       "      <td>1985700.0</td>\n",
       "      <td>1986200.0</td>\n",
       "      <td>20230818_133620_1_merged.rec</td>\n",
       "      <td>1.4</td>\n",
       "      <td>novel</td>\n",
       "      <td>36</td>\n",
       "      <td>[]</td>\n",
       "      <td>27</td>\n",
       "    </tr>\n",
       "    <tr>\n",
       "      <th>25596</th>\n",
       "      <td>exposure 3</td>\n",
       "      <td>1985700.0</td>\n",
       "      <td>1986200.0</td>\n",
       "      <td>20230818_133620_1_merged.rec</td>\n",
       "      <td>1.4</td>\n",
       "      <td>novel</td>\n",
       "      <td>95</td>\n",
       "      <td>[]</td>\n",
       "      <td>27</td>\n",
       "    </tr>\n",
       "    <tr>\n",
       "      <th>25597</th>\n",
       "      <td>exposure 3</td>\n",
       "      <td>1985700.0</td>\n",
       "      <td>1986200.0</td>\n",
       "      <td>20230818_133620_1_merged.rec</td>\n",
       "      <td>1.4</td>\n",
       "      <td>novel</td>\n",
       "      <td>120</td>\n",
       "      <td>[]</td>\n",
       "      <td>27</td>\n",
       "    </tr>\n",
       "  </tbody>\n",
       "</table>\n",
       "<p>25598 rows × 9 columns</p>\n",
       "</div>"
      ],
      "text/plain": [
       "              order  start_time   end_time                collection_key  \\\n",
       "0      exposure Nan     15167.0    24733.0  20230803_101331_1_merged.rec   \n",
       "1      exposure Nan     15167.0    24733.0  20230803_101331_1_merged.rec   \n",
       "2      exposure Nan     15167.0    24733.0  20230803_101331_1_merged.rec   \n",
       "3      exposure Nan     15167.0    24733.0  20230803_101331_1_merged.rec   \n",
       "4      exposure Nan     15167.0    24733.0  20230803_101331_1_merged.rec   \n",
       "...             ...         ...        ...                           ...   \n",
       "25593    exposure 3   1985700.0  1986200.0  20230818_133620_1_merged.rec   \n",
       "25594    exposure 3   1985700.0  1986200.0  20230818_133620_1_merged.rec   \n",
       "25595    exposure 3   1985700.0  1986200.0  20230818_133620_1_merged.rec   \n",
       "25596    exposure 3   1985700.0  1986200.0  20230818_133620_1_merged.rec   \n",
       "25597    exposure 3   1985700.0  1986200.0  20230818_133620_1_merged.rec   \n",
       "\n",
       "       subject behavior_label  units  \\\n",
       "0          1.1    acquisition      2   \n",
       "1          1.1    acquisition     26   \n",
       "2          1.1    acquisition    196   \n",
       "3          1.1    acquisition    113   \n",
       "4          1.1    acquisition     91   \n",
       "...        ...            ...    ...   \n",
       "25593      1.4          novel     73   \n",
       "25594      1.4          novel    141   \n",
       "25595      1.4          novel     36   \n",
       "25596      1.4          novel     95   \n",
       "25597      1.4          novel    120   \n",
       "\n",
       "                                        event_timestamps  cluster  \n",
       "0      [133.0, 359.0, 761.0, 841.0, 1042.0, 1142.0, 1...       63  \n",
       "1      [149.0, 2407.0, 2955.0, 6394.0, 6924.0, 11713....        8  \n",
       "2      [394.0, 1740.0, 2021.0, 2752.0, 3636.0, 5356.0...       61  \n",
       "3      [436.0, 7630.0, 9762.0, 11461.0, 13316.0, 1414...       38  \n",
       "4                      [449.0, 4067.0, 11824.0, 22087.0]       33  \n",
       "...                                                  ...      ...  \n",
       "25593                                                 []       27  \n",
       "25594                                                 []       27  \n",
       "25595                                                 []       27  \n",
       "25596                                                 []       27  \n",
       "25597                                                 []       27  \n",
       "\n",
       "[25598 rows x 9 columns]"
      ]
     },
     "execution_count": 10,
     "metadata": {},
     "output_type": "execute_result"
    }
   ],
   "source": [
    "# import clustered data\n",
    "data_df = pd.read_csv(pwd + \"/02_Clean_data/02_recording_event_times_labels_binary_clustered.csv\")\n",
    "data_df['order'] = data_df['order'].fillna('exposure Nan')\n",
    "data_df"
   ]
  },
  {
   "cell_type": "markdown",
   "metadata": {},
   "source": [
    "### Calculate Adjusted Rand Score (ARI) and Normalized Mutual Information Score (NMI) "
   ]
  },
  {
   "cell_type": "code",
   "execution_count": 11,
   "metadata": {},
   "outputs": [
    {
     "name": "stdout",
     "output_type": "stream",
     "text": [
      "behavior_label\n",
      "order\n",
      "subject\n",
      "collection_key\n",
      "units\n"
     ]
    },
    {
     "name": "stderr",
     "output_type": "stream",
     "text": [
      "c:\\Users\\gcmar\\anaconda3\\envs\\play\\Lib\\site-packages\\sklearn\\metrics\\cluster\\_supervised.py:66: UserWarning: Clustering metrics expects discrete values but received continuous values for label, and multiclass values for target\n",
      "  warnings.warn(msg, UserWarning)\n",
      "c:\\Users\\gcmar\\anaconda3\\envs\\play\\Lib\\site-packages\\sklearn\\metrics\\cluster\\_supervised.py:66: UserWarning: Clustering metrics expects discrete values but received continuous values for label, and multiclass values for target\n",
      "  warnings.warn(msg, UserWarning)\n"
     ]
    }
   ],
   "source": [
    "# calculate adjusted rand score and normalized mutual info score\n",
    "attribute_lst = ['behavior_label', 'order', 'subject', 'collection_key', 'units']\n",
    "cluster_relation_df = pd.DataFrame()\n",
    "ari_lst = []\n",
    "nmi_lst = []\n",
    "for attribute_name in attribute_lst:\n",
    "    print(attribute_name)\n",
    "    ari_lst.append(adjusted_rand_score(labels_true=data_df[attribute_name], labels_pred=data_df['cluster']))\n",
    "    nmi_lst.append(normalized_mutual_info_score(labels_true=data_df[attribute_name], labels_pred=data_df['cluster']))\n",
    "cluster_relation_df['attribute'] = attribute_lst\n",
    "cluster_relation_df['ari'] = ari_lst\n",
    "cluster_relation_df['nmi'] = nmi_lst"
   ]
  },
  {
   "cell_type": "code",
   "execution_count": 12,
   "metadata": {},
   "outputs": [
    {
     "data": {
      "text/html": [
       "<div>\n",
       "<style scoped>\n",
       "    .dataframe tbody tr th:only-of-type {\n",
       "        vertical-align: middle;\n",
       "    }\n",
       "\n",
       "    .dataframe tbody tr th {\n",
       "        vertical-align: top;\n",
       "    }\n",
       "\n",
       "    .dataframe thead th {\n",
       "        text-align: right;\n",
       "    }\n",
       "</style>\n",
       "<table border=\"1\" class=\"dataframe\">\n",
       "  <thead>\n",
       "    <tr style=\"text-align: right;\">\n",
       "      <th></th>\n",
       "      <th>attribute</th>\n",
       "      <th>ari</th>\n",
       "      <th>nmi</th>\n",
       "    </tr>\n",
       "  </thead>\n",
       "  <tbody>\n",
       "    <tr>\n",
       "      <th>0</th>\n",
       "      <td>behavior_label</td>\n",
       "      <td>-0.003744</td>\n",
       "      <td>0.004630</td>\n",
       "    </tr>\n",
       "    <tr>\n",
       "      <th>1</th>\n",
       "      <td>order</td>\n",
       "      <td>-0.003684</td>\n",
       "      <td>0.004507</td>\n",
       "    </tr>\n",
       "    <tr>\n",
       "      <th>2</th>\n",
       "      <td>subject</td>\n",
       "      <td>0.001429</td>\n",
       "      <td>0.010686</td>\n",
       "    </tr>\n",
       "    <tr>\n",
       "      <th>3</th>\n",
       "      <td>collection_key</td>\n",
       "      <td>-0.000453</td>\n",
       "      <td>0.018753</td>\n",
       "    </tr>\n",
       "    <tr>\n",
       "      <th>4</th>\n",
       "      <td>units</td>\n",
       "      <td>0.003426</td>\n",
       "      <td>0.115272</td>\n",
       "    </tr>\n",
       "  </tbody>\n",
       "</table>\n",
       "</div>"
      ],
      "text/plain": [
       "        attribute       ari       nmi\n",
       "0  behavior_label -0.003744  0.004630\n",
       "1           order -0.003684  0.004507\n",
       "2         subject  0.001429  0.010686\n",
       "3  collection_key -0.000453  0.018753\n",
       "4           units  0.003426  0.115272"
      ]
     },
     "execution_count": 12,
     "metadata": {},
     "output_type": "execute_result"
    }
   ],
   "source": [
    "# save data to csv again\n",
    "cluster_relation_df.to_csv(pwd + \"/02_Clean_data/03_cluster_relation_df.csv\", index=False)\n",
    "\n",
    "# show table\n",
    "cluster_relation_df"
   ]
  },
  {
   "cell_type": "markdown",
   "metadata": {},
   "source": [
    "### Visualize Results"
   ]
  },
  {
   "cell_type": "code",
   "execution_count": 13,
   "metadata": {},
   "outputs": [
    {
     "data": {
      "image/png": "[encoded data removed]",
      "text/plain": [
       "<Figure size 640x480 with 1 Axes>"
      ]
     },
     "metadata": {},
     "output_type": "display_data"
    }
   ],
   "source": [
    "# Create a bar plot using Seaborn\n",
    "sns.barplot(cluster_relation_df, x='attribute', y='ari', color='blue', label='ARI')\n",
    "\n",
    "# Modify the plot\n",
    "plt.title('Bar Plot of ARI by Attribute')  # Adding a title\n",
    "plt.xlabel('Attribute')  # X-axis label\n",
    "plt.ylabel('ARI')  # Y-axis label\n",
    "\n",
    "# Save the plot\n",
    "plt.savefig(pwd + \"/04_Visualizations/03_attribute_ARI_plot.png\")\n",
    "\n",
    "# Show the plot\n",
    "plt.show()"
   ]
  },
  {
   "cell_type": "code",
   "execution_count": 14,
   "metadata": {},
   "outputs": [
    {
     "data": {
      "image/png": "[encoded data removed]",
      "text/plain": [
       "<Figure size 640x480 with 1 Axes>"
      ]
     },
     "metadata": {},
     "output_type": "display_data"
    }
   ],
   "source": [
    "# Create a bar plot using Seaborn\n",
    "sns.barplot(cluster_relation_df, x='attribute', y='nmi', color='red', label='NMI')\n",
    "\n",
    "# Modify the plot\n",
    "plt.title('Bar Plot of NMI by Attribute')  # Adding a title\n",
    "plt.xlabel('Attribute')  # X-axis label\n",
    "plt.ylabel('ARI')  # Y-axis label\n",
    "\n",
    "# Save the plot\n",
    "plt.savefig(pwd + \"/04_Visualizations/03_attribute_NMI_plot.png\")\n",
    "\n",
    "# Show the plot\n",
    "plt.show()"
   ]
  }
 ],
 "metadata": {
  "kernelspec": {
   "display_name": "play",
   "language": "python",
   "name": "python3"
  },
  "language_info": {
   "codemirror_mode": {
    "name": "ipython",
    "version": 3
   },
   "file_extension": ".py",
   "mimetype": "text/x-python",
   "name": "python",
   "nbconvert_exporter": "python",
   "pygments_lexer": "ipython3",
   "version": "3.12.0"
  }
 },
 "nbformat": 4,
 "nbformat_minor": 2
}

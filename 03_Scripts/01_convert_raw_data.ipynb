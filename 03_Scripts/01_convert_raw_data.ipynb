{
 "cells": [
  {
   "cell_type": "code",
   "execution_count": 4,
   "metadata": {},
   "outputs": [],
   "source": [
    "import numpy as np\n",
    "import pandas as pd\n",
    "import read_exported"
   ]
  },
  {
   "cell_type": "code",
   "execution_count": null,
   "metadata": {},
   "outputs": [],
   "source": [
    "trodes_res = read_exported.organize_all_trodes_export(os.path.normpath(r\"D:\\\\GIT_REPOS\\\\nose_poke_identifier\\\\data\\\\\"))"
   ]
  },
  {
   "cell_type": "markdown",
   "metadata": {},
   "source": [
    "# Get nosepoke sensor data"
   ]
  },
  {
   "cell_type": "code",
   "execution_count": null,
   "metadata": {},
   "outputs": [],
   "source": [
    "voltage_timestamp_arr = trodes_res['20230618_100636_standard_comp_to_omission_D2_subj_1_1_t1b2L_box2_merged']['raw']['timestamps']['data']\n",
    "dio_arr = trodes_res['20230618_100636_standard_comp_to_omission_D2_subj_1_1_t1b2L_box2_merged'][\"DIO\"]\n",
    "\n",
    "nosepoke_lst = []\n",
    "key_lst = []\n",
    "for key, value in dio_arr.items():\n",
    "    # if \"in\" in key: # only get the nosepoke data\n",
    "    val_arr = value['data'] # get the array\n",
    "    nosepoke_lst.append(val_arr) # append the array\n",
    "    key_lst = key_lst + ([key] * val_arr.shape[0]) # repeat the key for each row in the array\n",
    "nosepoke_arr = np.concatenate(nosepoke_lst, axis=0) # concatenate all the arrays\n",
    "df = pd.DataFrame(nosepoke_arr) # convert to dataframe\n",
    "df['key'] = key_lst # add the key column\n",
    "df_wide = df.pivot(index='time', columns='key', values='state').reset_index() # pivot the dataframe\n",
    "# add all the timestamps to the dataframe\n",
    "timestamp_df = pd.DataFrame(voltage_timestamp_arr) # convert to dataframe\n",
    "all_time_df = pd.merge(timestamp_df, df_wide, on='time', how='left').set_index('time') # merge the dataframes\n",
    "all_time_df"
   ]
  }
 ],
 "metadata": {
  "kernelspec": {
   "display_name": "base",
   "language": "python",
   "name": "python3"
  },
  "language_info": {
   "codemirror_mode": {
    "name": "ipython",
    "version": 3
   },
   "file_extension": ".py",
   "mimetype": "text/x-python",
   "name": "python",
   "nbconvert_exporter": "python",
   "pygments_lexer": "ipython3",
   "version": "3.11.5"
  }
 },
 "nbformat": 4,
 "nbformat_minor": 2
}

{
 "cells": [
  {
   "cell_type": "code",
   "execution_count": 1,
   "metadata": {},
   "outputs": [],
   "source": [
    "import os\n",
    "import glob\n",
    "import pandas as pd\n",
    "import numpy as np"
   ]
  },
  {
   "cell_type": "code",
   "execution_count": 2,
   "metadata": {},
   "outputs": [
    {
     "name": "stdout",
     "output_type": "stream",
     "text": [
      "['D:\\\\GIT_REPOS\\\\cmarais_neuro\\\\03_Scripts\\\\20230618_100636_standard_comp_to_omission_D2_subj_1_1_t1b2L_box2_merged.feather', 'D:\\\\GIT_REPOS\\\\cmarais_neuro\\\\03_Scripts\\\\20230618_100636_standard_comp_to_omission_D2_subj_1_4_t4b3L_box1_merged.feather']\n"
     ]
    }
   ],
   "source": [
    "# Replace 'your_folder_path' with the path of your folder\n",
    "folder_path = r'D:\\GIT_REPOS\\cmarais_neuro\\03_Scripts'\n",
    "\n",
    "# Pattern to match all .feather files\n",
    "pattern = os.path.join(folder_path, '*.feather')\n",
    "\n",
    "# List all matching files\n",
    "feather_files = glob.glob(pattern)\n",
    "\n",
    "print(feather_files)"
   ]
  },
  {
   "cell_type": "code",
   "execution_count": 3,
   "metadata": {},
   "outputs": [],
   "source": [
    "timestamps_df_lst = []\n",
    "for i in feather_files:\n",
    "    df = pd.read_feather(i)\n",
    "    timestamps_df_lst.append(df)"
   ]
  }
 ],
 "metadata": {
  "kernelspec": {
   "display_name": "base",
   "language": "python",
   "name": "python3"
  },
  "language_info": {
   "codemirror_mode": {
    "name": "ipython",
    "version": 3
   },
   "file_extension": ".py",
   "mimetype": "text/x-python",
   "name": "python",
   "nbconvert_exporter": "python",
   "pygments_lexer": "ipython3",
   "version": "3.11.5"
  }
 },
 "nbformat": 4,
 "nbformat_minor": 2
}
